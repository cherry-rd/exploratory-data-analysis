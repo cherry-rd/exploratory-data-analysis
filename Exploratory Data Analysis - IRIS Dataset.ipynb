{
 "cells": [
  {
   "cell_type": "markdown",
   "metadata": {},
   "source": [
    "## Iris Flower dataset"
   ]
  },
  {
   "cell_type": "markdown",
   "metadata": {},
   "source": [
    "Toy  Dataset: Iris Dataset: [https://en.wikipedia.org/wiki/Iris_flower_data_set]\n",
    "* A simple dataset to learn the basics.\n",
    "* 3 flowers of Iris species. [see images on wikipedia link above]\n",
    "* 1936 by Ronald Fisher.\n",
    "* Petal and Sepal: http://terpconnect.umd.edu/~petersd/666/html/iris_with_labels.jpg\n",
    "*  Objective: Classify a new flower as belonging to one of the 3 classes given the 4 features.\n",
    "* Importance of domain knowledge.\n",
    "* Why use petal and sepal dimensions as features?\n",
    "* Why do we not use 'color' as a feature?"
   ]
  },
  {
   "cell_type": "code",
   "execution_count": null,
   "metadata": {},
   "outputs": [],
   "source": [
    "import pandas as pd\n",
    "import seaborn as sns\n",
    "import matplotlib.pyplot as plt\n",
    "import numpy as np\n",
    "\n",
    "'''downlaod iris.csv from https://raw.githubusercontent.com/uiuc-cse/data-fa14/gh-pages/data/iris.csv'''\n",
    "# load iris.csv into a pandas dataFrame\n",
    "iris = pd.read_csv(\"iris.csv\")"
   ]
  },
  {
   "cell_type": "code",
   "execution_count": null,
   "metadata": {},
   "outputs": [],
   "source": [
    "# (Q) how many data-points and features?\n",
    "print(iris.shape)"
   ]
  },
  {
   "cell_type": "code",
   "execution_count": null,
   "metadata": {},
   "outputs": [],
   "source": [
    "# (Q) what are the column names in our dataset?\n",
    "print(iris.columns)"
   ]
  },
  {
   "cell_type": "code",
   "execution_count": null,
   "metadata": {},
   "outputs": [],
   "source": [
    "# (Q) how many data points for each class are present?\n",
    "# or how many flowers for each species are present?\n",
    "iris['species'].value_counts()\n",
    "# balanced-dataset vs imbalanced datasets\n",
    "# iris is a balanced dataset as the number of data points for every class is 50"
   ]
  },
  {
   "cell_type": "markdown",
   "metadata": {},
   "source": [
    "## 2-D Scatter Plot"
   ]
  },
  {
   "cell_type": "code",
   "execution_count": null,
   "metadata": {},
   "outputs": [],
   "source": [
    "# 2-D scatter plot:\n",
    "# ALWAYS understand the axis: labels and scale\n",
    "\n",
    "iris.plot(kind='scatter', x='sepal_length', y='sepal_width')\n",
    "plt.show()\n",
    "\n",
    "# cannot make much sense out of it\n",
    "# what if we color the points by their class-label/flower-type"
   ]
  },
  {
   "cell_type": "code",
   "execution_count": null,
   "metadata": {},
   "outputs": [],
   "source": [
    "# 2-D scatter plot with color-coding for each flower type/class\n",
    "# here 'sns' corresponds to seaborn\n",
    "sns.set_style(\"whitegrid\")\n",
    "sns.FacetGrid(iris, hue='species', size=4) \\\n",
    "   .map(plt.scatter, 'sepal_length', 'sepal_width') \\\n",
    "   .add_legend()\n",
    "\n",
    "plt.show()\n",
    "\n",
    "# notice that the blue points can be easily seperated\n",
    "# from red and green by drawing a line\n",
    "# but red and green data points cannot be easily seperated\n",
    "\n",
    "# can we draw multiple 2-D scatter plots for each combination of features?\n",
    "# how many cobinations exist? 4C2 = 6."
   ]
  },
  {
   "cell_type": "markdown",
   "metadata": {},
   "source": [
    "**Observation(s):**\n",
    "1. Using sepal_length and sepal_width features, we can distinguish Setosa flowers from others.\n",
    "2. Seperating Versicolor from Viginica is much harder as they have considerable overlap."
   ]
  }
 ],
 "metadata": {
  "kernelspec": {
   "display_name": "Python 3",
   "language": "python",
   "name": "python3"
  },
  "language_info": {
   "codemirror_mode": {
    "name": "ipython",
    "version": 3
   },
   "file_extension": ".py",
   "mimetype": "text/x-python",
   "name": "python",
   "nbconvert_exporter": "python",
   "pygments_lexer": "ipython3",
   "version": "3.6.5"
  }
 },
 "nbformat": 4,
 "nbformat_minor": 2
}
